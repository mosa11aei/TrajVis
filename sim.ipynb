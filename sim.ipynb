{
 "cells": [
  {
   "cell_type": "code",
<<<<<<< Updated upstream
   "execution_count": 4,
   "metadata": {},
   "outputs": [],
   "source": [
    "from components.balloon import Balloon\n",
=======
   "execution_count": null,
   "metadata": {},
   "outputs": [],
   "source": [
    "%pip install -r requirements.txt"
   ]
  },
  {
   "cell_type": "code",
   "execution_count": null,
   "metadata": {},
   "outputs": [
    {
     "ename": "",
     "evalue": "",
     "output_type": "error",
     "traceback": [
      "\u001b[1;31mFailed to start the Kernel. \n",
      "\u001b[1;31mBad file descriptor (C:\\Users\\runneradmin\\AppData\\Local\\Temp\\tmpkywtyyea\\build\\_deps\\bundled_libzmq-src\\src\\epoll.cpp:73). \n",
      "\u001b[1;31mView Jupyter <a href='command:jupyter.viewOutput'>log</a> for further details."
     ]
    }
   ],
   "source": [
    "from components.balloon import Balloon, BalloonStatus\n",
>>>>>>> Stashed changes
    "from components.network import Network\n",
    "from components.networkanalyzer import NetworkAnalyzer as na\n",
    "from components.plothelper import PlotHelper as ph\n",
    "from components.windmap import WindMap as wm\n",
    "from components.sample_antennas import *"
   ]
  },
  {
   "cell_type": "code",
<<<<<<< Updated upstream
   "execution_count": null,
   "metadata": {},
   "outputs": [],
=======
   "execution_count": 7,
   "metadata": {},
   "outputs": [
    {
     "name": "stdout",
     "output_type": "stream",
     "text": [
      "1  popped at  7431.5\n",
      "1  hit the ground at time t= 9695.0\n",
      "2  popped at  7157.0\n",
      "2  hit the ground at time t= 9416.5\n",
      "3  popped at  5964.0\n",
      "3  hit the ground at time t= 8228.5\n",
      "4  popped at  6217.0\n",
      "4  hit the ground at time t= 8481.5\n",
      "5  popped at  6553.0\n",
      "5  hit the ground at time t= 8817.5\n",
      "6  popped at  6074.5\n",
      "6  hit the ground at time t= 8342.0\n",
      "7  popped at  7844.0\n",
      "7  hit the ground at time t= 10108.0\n",
      "8  popped at  7659.0\n",
      "8  hit the ground at time t= 9920.0\n",
      "9  popped at  6306.0\n",
      "9  hit the ground at time t= 8569.0\n",
      "10  popped at  6632.5\n",
      "10  hit the ground at time t= 8896.5\n"
     ]
    },
    {
     "ename": "KeyboardInterrupt",
     "evalue": "",
     "output_type": "error",
     "traceback": [
      "\u001b[1;31m---------------------------------------------------------------------------\u001b[0m",
      "\u001b[1;31mKeyboardInterrupt\u001b[0m                         Traceback (most recent call last)",
      "Cell \u001b[1;32mIn[7], line 56\u001b[0m\n\u001b[0;32m     54\u001b[0m \u001b[38;5;28;01mfor\u001b[39;00m i \u001b[38;5;129;01min\u001b[39;00m \u001b[38;5;28mrange\u001b[39m(\u001b[38;5;241m1\u001b[39m, \u001b[38;5;241m8000\u001b[39m):\n\u001b[0;32m     55\u001b[0m     MyNetwork\u001b[38;5;241m.\u001b[39mrecalculate(i, NA\u001b[38;5;241m.\u001b[39mrp)\n\u001b[1;32m---> 56\u001b[0m     \u001b[43mMyNetwork\u001b[49m\u001b[38;5;241;43m.\u001b[39;49m\u001b[43mtransmit\u001b[49m\u001b[43m(\u001b[49m\u001b[43mi\u001b[49m\u001b[43m,\u001b[49m\u001b[43m \u001b[49m\u001b[43mNA\u001b[49m\u001b[38;5;241;43m.\u001b[39;49m\u001b[43mrp\u001b[49m\u001b[43m)\u001b[49m\n\u001b[0;32m     58\u001b[0m     \u001b[38;5;28;01mif\u001b[39;00m i \u001b[38;5;241m%\u001b[39m \u001b[38;5;241m1000\u001b[39m \u001b[38;5;241m==\u001b[39m \u001b[38;5;241m0\u001b[39m:\n\u001b[0;32m     59\u001b[0m         \u001b[38;5;28mprint\u001b[39m(\u001b[38;5;124m\"\u001b[39m\u001b[38;5;124m== TRANSMIT\u001b[39m\u001b[38;5;124m\"\u001b[39m, passes, \u001b[38;5;124m\"\u001b[39m\u001b[38;5;124mPROGRESS: \u001b[39m\u001b[38;5;124m\"\u001b[39m, i, \u001b[38;5;124m\"\u001b[39m\u001b[38;5;124m/ 8000 ==\u001b[39m\u001b[38;5;124m\"\u001b[39m)\n",
      "File \u001b[1;32mc:\\Users\\Ali Mosallaei\\Desktop\\Desktop\\MXL\\trajectory-vis\\components\\network.py:139\u001b[0m, in \u001b[0;36mNetwork.transmit\u001b[1;34m(self, time, rp_calculator)\u001b[0m\n\u001b[0;32m    138\u001b[0m \u001b[38;5;28;01mdef\u001b[39;00m \u001b[38;5;21mtransmit\u001b[39m(\u001b[38;5;28mself\u001b[39m, time, rp_calculator):\n\u001b[1;32m--> 139\u001b[0m     path, weight \u001b[38;5;241m=\u001b[39m \u001b[38;5;28;43mself\u001b[39;49m\u001b[38;5;241;43m.\u001b[39;49m\u001b[43m_calculate_si_path\u001b[49m\u001b[43m(\u001b[49m\u001b[43m)\u001b[49m\n\u001b[0;32m    140\u001b[0m     \u001b[38;5;28mself\u001b[39m\u001b[38;5;241m.\u001b[39mpath_weight, _ \u001b[38;5;241m=\u001b[39m \u001b[38;5;28mself\u001b[39m\u001b[38;5;241m.\u001b[39mcalculate_total_rp(time, rp_calculator, path\u001b[38;5;241m=\u001b[39m\u001b[38;5;124m\"\u001b[39m\u001b[38;5;124mCurrent\u001b[39m\u001b[38;5;124m\"\u001b[39m)\n\u001b[0;32m    142\u001b[0m     \u001b[38;5;28;01mif\u001b[39;00m (weight \u001b[38;5;241m!=\u001b[39m \u001b[38;5;241m0\u001b[39m \u001b[38;5;129;01mand\u001b[39;00m weight \u001b[38;5;241m>\u001b[39m \u001b[38;5;28mself\u001b[39m\u001b[38;5;241m.\u001b[39mpath_weight):\n",
      "File \u001b[1;32mc:\\Users\\Ali Mosallaei\\Desktop\\Desktop\\MXL\\trajectory-vis\\components\\network.py:121\u001b[0m, in \u001b[0;36mNetwork._calculate_si_path\u001b[1;34m(self)\u001b[0m\n\u001b[0;32m    118\u001b[0m \u001b[38;5;28;01mif\u001b[39;00m \u001b[38;5;129;01mnot\u001b[39;00m \u001b[38;5;28mself\u001b[39m\u001b[38;5;241m.\u001b[39mcg\u001b[38;5;241m.\u001b[39mhas_node(\u001b[38;5;28mself\u001b[39m\u001b[38;5;241m.\u001b[39mstart_node\u001b[38;5;241m.\u001b[39mname) \u001b[38;5;129;01mor\u001b[39;00m \u001b[38;5;129;01mnot\u001b[39;00m \u001b[38;5;28mself\u001b[39m\u001b[38;5;241m.\u001b[39mcg\u001b[38;5;241m.\u001b[39mhas_node(\u001b[38;5;28mself\u001b[39m\u001b[38;5;241m.\u001b[39mend_node\u001b[38;5;241m.\u001b[39mname):\n\u001b[0;32m    119\u001b[0m     \u001b[38;5;66;03m# obviously no path\u001b[39;00m\n\u001b[0;32m    120\u001b[0m     \u001b[38;5;28;01mreturn\u001b[39;00m [], \u001b[38;5;241m0\u001b[39m\n\u001b[1;32m--> 121\u001b[0m simple_paths \u001b[38;5;241m=\u001b[39m \u001b[38;5;28;43mlist\u001b[39;49m\u001b[43m(\u001b[49m\u001b[43mnx\u001b[49m\u001b[38;5;241;43m.\u001b[39;49m\u001b[43mall_simple_paths\u001b[49m\u001b[43m(\u001b[49m\u001b[38;5;28;43mself\u001b[39;49m\u001b[38;5;241;43m.\u001b[39;49m\u001b[43mcg\u001b[49m\u001b[43m,\u001b[49m\u001b[43m \u001b[49m\u001b[43msource\u001b[49m\u001b[38;5;241;43m=\u001b[39;49m\u001b[38;5;28;43mself\u001b[39;49m\u001b[38;5;241;43m.\u001b[39;49m\u001b[43mstart_node\u001b[49m\u001b[38;5;241;43m.\u001b[39;49m\u001b[43mname\u001b[49m\u001b[43m,\u001b[49m\u001b[43m \u001b[49m\u001b[43mtarget\u001b[49m\u001b[38;5;241;43m=\u001b[39;49m\u001b[38;5;28;43mself\u001b[39;49m\u001b[38;5;241;43m.\u001b[39;49m\u001b[43mend_node\u001b[49m\u001b[38;5;241;43m.\u001b[39;49m\u001b[43mname\u001b[49m\u001b[43m)\u001b[49m\u001b[43m)\u001b[49m\n\u001b[0;32m    123\u001b[0m \u001b[38;5;28;01mfor\u001b[39;00m i \u001b[38;5;129;01min\u001b[39;00m \u001b[38;5;28mrange\u001b[39m(\u001b[38;5;28mlen\u001b[39m(\u001b[38;5;28mself\u001b[39m\u001b[38;5;241m.\u001b[39mnodes), \u001b[38;5;241m1\u001b[39m, \u001b[38;5;241m-\u001b[39m\u001b[38;5;241m1\u001b[39m):\n\u001b[0;32m    124\u001b[0m     filtered_paths \u001b[38;5;241m=\u001b[39m []\n",
      "File \u001b[1;32mc:\\Users\\Ali Mosallaei\\AppData\\Local\\Programs\\Python\\Python312\\Lib\\site-packages\\networkx\\algorithms\\simple_paths.py:288\u001b[0m, in \u001b[0;36m_all_simple_paths_graph\u001b[1;34m(G, source, targets, cutoff)\u001b[0m\n\u001b[0;32m    286\u001b[0m         stack\u001b[38;5;241m.\u001b[39mappend(\u001b[38;5;28miter\u001b[39m(G[child]))\n\u001b[0;32m    287\u001b[0m     \u001b[38;5;28;01melse\u001b[39;00m:\n\u001b[1;32m--> 288\u001b[0m         \u001b[43mvisited\u001b[49m\u001b[38;5;241;43m.\u001b[39;49m\u001b[43mpopitem\u001b[49m\u001b[43m(\u001b[49m\u001b[43m)\u001b[49m  \u001b[38;5;66;03m# maybe other ways to child\u001b[39;00m\n\u001b[0;32m    289\u001b[0m \u001b[38;5;28;01melse\u001b[39;00m:  \u001b[38;5;66;03m# len(visited) == cutoff:\u001b[39;00m\n\u001b[0;32m    290\u001b[0m     \u001b[38;5;28;01mfor\u001b[39;00m target \u001b[38;5;129;01min\u001b[39;00m (targets \u001b[38;5;241m&\u001b[39m (\u001b[38;5;28mset\u001b[39m(children) \u001b[38;5;241m|\u001b[39m {child})) \u001b[38;5;241m-\u001b[39m \u001b[38;5;28mset\u001b[39m(visited\u001b[38;5;241m.\u001b[39mkeys()):\n",
      "\u001b[1;31mKeyboardInterrupt\u001b[0m: "
     ]
    }
   ],
>>>>>>> Stashed changes
   "source": [
    "reconfigs = []\n",
    "meaningful = []\n",
    "for passes in range(0, 10):\n",
    "    MyWindMap = wm(500, 500, 1)\n",
    "    MyWindMap.create_windmap()\n",
    "    MyWindMap.bound(4)\n",
    "    \n",
    "    MyPlotHelper = ph(MyWindMap)\n",
    "    MyPlotHelper.populate(show_scale=False)\n",
    "    # MyPlotHelper.plot(debug=False)\n",
    "    \n",
<<<<<<< Updated upstream
    "    B1 = Balloon(MyWindMap, \"1\", \"red\")\n",
    "    B2 = Balloon(MyWindMap, \"2\", \"blue\")\n",
    "    B3 = Balloon(MyWindMap, \"3\", \"green\")\n",
    "    B4 = Balloon(MyWindMap, \"4\", \"orange\")\n",
    "    B5 = Balloon(MyWindMap, \"5\", \"purple\")\n",
    "    \n",
    "    B1.set_start_pos(-20, -45)\n",
    "    B2.set_start_pos(-20, -48)\n",
    "    B3.set_start_pos(-21, -33)\n",
    "    B4.set_start_pos(-20, -38)\n",
    "    B5.set_start_pos(-20, -39)\n",
    "    \n",
    "    tickResponse_1 = 1\n",
    "    tickResponse_2 = 1\n",
    "    tickResponse_3 = 1\n",
    "    tickResponse_4 = 1\n",
    "    tickResponse_5 = 1\n",
    "\n",
    "    B1.add_antenna(SaturnPatch)\n",
    "    B2.add_antenna(SaturnPatch)\n",
    "    B3.add_antenna(SaturnPatch)\n",
    "    B4.add_antenna(SaturnPatch)\n",
    "    B5.add_antenna(SaturnPatch)\n",
=======
    "    NumBalloons = 10\n",
    "    Colors = [\"red\", \"blue\", \"green\", \"orange\", \"purple\", \"red\", \"blue\", \"green\", \"orange\", \"purple\"]\n",
    "    Balloons = []\n",
    "    GenericPath = []\n",
    "    TickResponses = []\n",
    "    AntennaToAdd = MolexNoPL\n",
    "    \n",
    "    for i in range(1, NumBalloons+1):\n",
    "        Balloons.append(Balloon(MyWindMap, str(i), Colors[i-1]))\n",
    "        GenericPath.append(str(i))\n",
    "        start_pos_modifier = random.randint(-2, 2)\n",
    "        Balloons[i-1].set_start_pos(-20 + start_pos_modifier, -45 + start_pos_modifier)\n",
    "        TickResponses.append(1)\n",
    "        Balloons[i-1].add_antenna(AntennaToAdd)\n",
>>>>>>> Stashed changes
    "    \n",
    "    # MyPlotHelper.plot_balloons(B1, B2, B3, B4, B5)\n",
    "    # MyPlotHelper.zoom_in(100, 100)\n",
    "    \n",
    "    NA = na(B1, B2, B3, B4, B5)\n",
    "    # MyNetworkAnalyzer.show_pointing(100, MyFirstBalloon, MySecondBalloon, MyThirdBalloon, MyFourthBalloon)\n",
    "    \n",
    "    MyNetwork = Network(B1,\n",
    "                        B2,\n",
    "                        B3,\n",
    "                        B4,\n",
    "                        B5,\n",
    "                        start=B1,\n",
    "                        end=B5)\n",
    "    \n",
    "    while tickResponse_1:\n",
    "        tickResponse_1 = B1.tick()\n",
    "    while tickResponse_2:\n",
    "        tickResponse_2 = B2.tick()\n",
    "    while tickResponse_3:\n",
    "        tickResponse_3 = B3.tick()\n",
    "    while tickResponse_4:\n",
    "        tickResponse_4 = B4.tick()\n",
    "    while tickResponse_5:\n",
    "        tickResponse_5 = B5.tick()\n",
    "    \n",
    "    for i in range(1, 8000):\n",
    "        MyNetwork.recalculate(i, NA.rp)\n",
<<<<<<< Updated upstream
    "        MyNetwork.transmit(i)\n",
=======
    "        MyNetwork.transmit(i, NA.rp)\n",
    "        \n",
    "        if i % 1000 == 0:\n",
    "            print(\"== TRANSMIT\", passes, \"PROGRESS: \", i, \"/ 8000 ==\")\n",
    "    \n",
    "    num_meaningfuls = len(list(filter(lambda x: x['meaningful'] == True, MyNetwork.reconfigures)))\n",
>>>>>>> Stashed changes
    "    \n",
    "    print(\"\\n== SIMULATION\", passes, \"COMPLETE ==\")\n",
    "    print(\"Reconfigurations:\", len(MyNetwork.reconfigures))\n",
    "    reconfigs.append(len(MyNetwork.reconfigures))\n",
    "    print(\"Meaningful (above threshhold) reconfigs:\", len(list(filter(lambda x: x['meaningful'] == True, MyNetwork.reconfigures))))\n",
    "    print(\"Percentage meaningful:\", (len(list(filter(lambda x: x['meaningful'] == True, MyNetwork.reconfigures)))/len(MyNetwork.reconfigures))*100, \"\\n\")\n",
    "    meaningful.append(len(list(filter(lambda x: x['meaningful'] == True, MyNetwork.reconfigures))))\n",
    "\n",
    "print(\"== ALL SIMS COMPLETE ==\")\n",
    "print(\"Mean reconfigurations:\", np.mean(reconfigs))\n",
    "print(\"Mean meaningful reconfigurations:\", np.mean(meaningful))\n",
    "print(\"St.dev of reconfigurations:\", np.std(reconfigs))\n",
    "print(\"Variance of meaningful reconfigurations:\", np.var(meaningful))"
   ]
  }
 ],
 "metadata": {
  "kernelspec": {
   "display_name": "Python 3",
   "language": "python",
   "name": "python3"
  },
  "language_info": {
   "codemirror_mode": {
    "name": "ipython",
    "version": 3
   },
   "file_extension": ".py",
   "mimetype": "text/x-python",
   "name": "python",
   "nbconvert_exporter": "python",
   "pygments_lexer": "ipython3",
   "version": "3.12.2"
  }
 },
 "nbformat": 4,
 "nbformat_minor": 2
}
